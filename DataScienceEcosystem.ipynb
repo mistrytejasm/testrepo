{
 "cells": [
  {
   "cell_type": "markdown",
   "id": "54de48cb-2bb6-4d7e-8d6c-c062d7a9d8b9",
   "metadata": {},
   "source": [
    "# Tools For Data Science"
   ]
  },
  {
   "cell_type": "markdown",
   "id": "1c892f82-e56f-4a8b-a7db-c5605fe5df7e",
   "metadata": {},
   "source": [
    "In This Notebook, data science tools and ecosystem are summarized"
   ]
  },
  {
   "cell_type": "markdown",
   "id": "1d3a15ca-e49a-4b67-9310-122ccd1b2e14",
   "metadata": {},
   "source": [
    "Some Of The popular Data Science language use In Data Science\n",
    "1. Python\n",
    "2. R\n",
    "3. java\n",
    "4. MySql\n",
    "5. c++"
   ]
  },
  {
   "cell_type": "markdown",
   "id": "c1bf02d2-9def-417a-8b67-3d91a446ed36",
   "metadata": {},
   "source": [
    "some of commonly used list of data science libraries \n",
    "1. TensorFlow \n",
    "2. Numpy\n",
    "3. scipy \n",
    "4. Pandas\n",
    "5. Matplotlib\n",
    "6. keras\n",
    "7. scikit-learn\n",
    "8. pytorch"
   ]
  },
  {
   "cell_type": "markdown",
   "id": "5f762831-e797-4dd4-bdb7-513bc47a6ba7",
   "metadata": {},
   "source": [
    "|Data Science Tools|\n",
    "|---|\n",
    "|SAS|\n",
    "|Apach Hadoop|\n",
    "|TensorFlow|"
   ]
  },
  {
   "cell_type": "markdown",
   "id": "7a9ae029-9c53-4d15-a6bc-d45e09043a6f",
   "metadata": {},
   "source": [
    "### Below are a few example of evaluating arithmetic expressions in python"
   ]
  },
  {
   "cell_type": "code",
   "execution_count": 3,
   "id": "2e1f0ba6-a20d-486a-84c3-46028c2f304a",
   "metadata": {},
   "outputs": [
    {
     "data": {
      "text/plain": [
       "21"
      ]
     },
     "execution_count": 3,
     "metadata": {},
     "output_type": "execute_result"
    }
   ],
   "source": [
    "# this is common arithmetic example to multiply and then add integers\n",
    "(4*4)+5"
   ]
  },
  {
   "cell_type": "code",
   "execution_count": 4,
   "id": "be59d62b-e986-4f57-9ad3-9fffd63632ed",
   "metadata": {},
   "outputs": [
    {
     "data": {
      "text/plain": [
       "1.6666666666666667"
      ]
     },
     "execution_count": 4,
     "metadata": {},
     "output_type": "execute_result"
    }
   ],
   "source": [
    "# This will convert 100 minutes to hours by dividing by 60\n",
    "100/60"
   ]
  },
  {
   "cell_type": "markdown",
   "id": "7af9b880-07b3-4d43-bc74-72c17f8d302c",
   "metadata": {},
   "source": [
    "__Objective__\n",
    "* List Popular language for Data Science\n",
    "* List Popular libraries For Data Science\n",
    "* List of Well known Data Science tools\n",
    "* How to Provide comments in the cell"
   ]
  },
  {
   "cell_type": "markdown",
   "id": "751fa290-3671-4eff-9ea4-f23a58897983",
   "metadata": {},
   "source": [
    "## Author\n",
    "Tejash Mistry"
   ]
  }
 ],
 "metadata": {
  "kernelspec": {
   "display_name": "Python 3 (ipykernel)",
   "language": "python",
   "name": "python3"
  },
  "language_info": {
   "codemirror_mode": {
    "name": "ipython",
    "version": 3
   },
   "file_extension": ".py",
   "mimetype": "text/x-python",
   "name": "python",
   "nbconvert_exporter": "python",
   "pygments_lexer": "ipython3",
   "version": "3.11.5"
  }
 },
 "nbformat": 4,
 "nbformat_minor": 5
}
